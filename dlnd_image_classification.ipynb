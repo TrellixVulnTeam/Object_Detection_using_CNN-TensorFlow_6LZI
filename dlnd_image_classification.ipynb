{
 "cells": [
  {
   "cell_type": "markdown",
   "metadata": {
    "collapsed": true
   },
   "source": [
    "# Object Detection using Conventional Neural Networks (CNNs)\n",
    "### - classification of images from the [CIFAR-10 dataset](https://www.cs.toronto.edu/~kriz/cifar.html).\n",
    "### - The dataset consists of airplanes, dogs, cats, cars etc. A total of 10 different classes.\n",
    "\n",
    "We data is preprocessed on the images, then trained a convolutional neural network on all the samples. The images are normalized and the labels one-hot encoded including max pooling, dropout, and fully connected layers at the end of the network."
   ]
  },
  {
   "cell_type": "markdown",
   "metadata": {},
   "source": [
    "![cnn](cnn.png)"
   ]
  },
  {
   "cell_type": "markdown",
   "metadata": {},
   "source": [
    "# Downloading the dataset\n",
    "### Get the Data\n",
    "Run the following cell to download the [CIFAR-10 dataset for python](https://www.cs.toronto.edu/~kriz/cifar-10-python.tar.gz)."
   ]
  },
  {
   "cell_type": "code",
   "execution_count": 1,
   "metadata": {},
   "outputs": [
    {
     "name": "stderr",
     "output_type": "stream",
     "text": [
      "CIFAR-10 Dataset: 171MB [15:27, 184KB/s]                                \n"
     ]
    },
    {
     "name": "stdout",
     "output_type": "stream",
     "text": [
      "All files found!\n"
     ]
    }
   ],
   "source": [
    "from urllib.request import urlretrieve\n",
    "from os.path import isfile, isdir\n",
    "from tqdm import tqdm\n",
    "import tarfile\n",
    "\n",
    "cifar10_dataset_folder_path = 'cifar-10-batches-py'\n",
    "\n",
    "# Use Floyd's cifar-10 dataset if present\n",
    "floyd_cifar10_location = '/cifar/cifar-10-python.tar.gz'\n",
    "if isfile(floyd_cifar10_location):\n",
    "    tar_gz_path = floyd_cifar10_location\n",
    "else:\n",
    "    tar_gz_path = 'cifar-10-python.tar.gz'\n",
    "\n",
    "class DLProgress(tqdm):\n",
    "    last_block = 0\n",
    "\n",
    "    def hook(self, block_num=1, block_size=1, total_size=None):\n",
    "        self.total = total_size\n",
    "        self.update((block_num - self.last_block) * block_size)\n",
    "        self.last_block = block_num\n",
    "\n",
    "if not isfile(tar_gz_path):\n",
    "    with DLProgress(unit='B', unit_scale=True, miniters=1, desc='CIFAR-10 Dataset') as pbar:\n",
    "        urlretrieve(\n",
    "            'https://www.cs.toronto.edu/~kriz/cifar-10-python.tar.gz',\n",
    "            tar_gz_path,\n",
    "            pbar.hook)\n",
    "\n",
    "if not isdir(cifar10_dataset_folder_path):\n",
    "    with tarfile.open(tar_gz_path) as tar:\n",
    "        tar.extractall()\n",
    "        tar.close()"
   ]
  },
  {
   "cell_type": "markdown",
   "metadata": {},
   "source": [
    "## Explore the Data\n",
    "The dataset is broken into batches to prevent machine from running out of memory.  The CIFAR-10 dataset consists of 5 batches, named `data_batch_1`, `data_batch_2`, etc.. Each batch contains the labels and images that are one of the following:\n",
    "* airplane\n",
    "* automobile\n",
    "* bird\n",
    "* cat\n",
    "* deer\n",
    "* dog\n",
    "* frog\n",
    "* horse\n",
    "* ship\n",
    "* truck"
   ]
  },
  {
   "cell_type": "code",
   "execution_count": 2,
   "metadata": {},
   "outputs": [
    {
     "name": "stdout",
     "output_type": "stream",
     "text": [
      "\n",
      "Stats of batch 1:\n",
      "Samples: 10000\n",
      "Label Counts: {0: 1005, 1: 974, 2: 1032, 3: 1016, 4: 999, 5: 937, 6: 1030, 7: 1001, 8: 1025, 9: 981}\n",
      "First 20 Labels: [6, 9, 9, 4, 1, 1, 2, 7, 8, 3, 4, 7, 7, 2, 9, 9, 9, 3, 2, 6]\n",
      "\n",
      "Example of Image 5:\n",
      "Image - Min Value: 0 Max Value: 252\n",
      "Image - Shape: (32, 32, 3)\n",
      "Label - Label Id: 1 Name: automobile\n"
     ]
    },
    {
     "data": {
      "image/png": "[encoded data removed]",
      "text/plain": [
       "<matplotlib.figure.Figure at 0x7f45577a79e8>"
      ]
     },
     "metadata": {
      "image/png": {
       "height": 250,
       "width": 253
      }
     },
     "output_type": "display_data"
    }
   ],
   "source": [
    "%matplotlib inline\n",
    "%config InlineBackend.figure_format = 'retina'\n",
    "\n",
    "import helper\n",
    "import numpy as np\n",
    "\n",
    "# Looking at the dataset\n",
    "batch_id = 1\n",
    "sample_id = 5\n",
    "helper.display_stats(cifar10_dataset_folder_path, batch_id, sample_id)"
   ]
  },
  {
   "cell_type": "markdown",
   "metadata": {},
   "source": [
    "## Implementing Preprocess Functions\n",
    "### Normalization"
   ]
  },
  {
   "cell_type": "code",
   "execution_count": 3,
   "metadata": {},
   "outputs": [
    {
     "name": "stdout",
     "output_type": "stream",
     "text": [
      "Tests Passed\n"
     ]
    }
   ],
   "source": [
    "def normalize(x):\n",
    "    \"\"\"\n",
    "    Normalizing a list of sample image data in the range of 0 to 1\n",
    "    : x: List of image data.  The image shape is (32, 32, 3)\n",
    "    : returns: Numpy array of normalize data\n",
    "    \"\"\"\n",
    "    ranges = np.max(x) - np.min(x)\n",
    "    return (x - np.min(x)) / ranges"
   ]
  },
  {
   "cell_type": "markdown",
   "metadata": {},
   "source": [
    "### One-hot encoding"
   ]
  },
  {
   "cell_type": "code",
   "execution_count": 12,
   "metadata": {},
   "outputs": [
    {
     "name": "stdout",
     "output_type": "stream",
     "text": [
      "Tests Passed\n"
     ]
    }
   ],
   "source": [
    "def one_hot_encode(x):\n",
    "    \"\"\"\n",
    "    One hot encoding a list of sample labels. Return a one-hot encoded vector for each label.\n",
    "    : x: List of sample Labels\n",
    "    : return: Numpy array of one-hot encoded labels\n",
    "    \"\"\"\n",
    "    new_label = np.zeros((len(x), 10))\n",
    "    for i in range(len(x)):\n",
    "        new_label[i, x[i]] = 1\n",
    "    return new_label"
   ]
  },
  {
   "cell_type": "markdown",
   "metadata": {},
   "source": [
    "### Randomizing Data\n",
    "As we saw from exploring the data above, the order of the samples are randomized already."
   ]
  },
  {
   "cell_type": "markdown",
   "metadata": {},
   "source": [
    "## Preprocess all the data and save it\n",
    "Running the code cell below will preprocess all the CIFAR-10 data and save it to file. The code below also uses 10% of the training data for validation."
   ]
  },
  {
   "cell_type": "code",
   "execution_count": 13,
   "metadata": {
    "collapsed": true
   },
   "outputs": [],
   "source": [
    "# Preprocess Training, Validation, and Testing Data\n",
    "helper.preprocess_and_save_data(cifar10_dataset_folder_path, normalize, one_hot_encode)"
   ]
  },
  {
   "cell_type": "markdown",
   "metadata": {},
   "source": [
    "## creating checkpoint 1"
   ]
  },
  {
   "cell_type": "code",
   "execution_count": 14,
   "metadata": {
    "collapsed": true
   },
   "outputs": [],
   "source": [
    "import pickle\n",
    "import problem_unittests as tests\n",
    "import helper\n",
    "\n",
    "# Load the Preprocessed Validation data\n",
    "valid_features, valid_labels = pickle.load(open('preprocess_validation.p', mode='rb'))"
   ]
  },
  {
   "cell_type": "markdown",
   "metadata": {},
   "source": [
    "## Build the network\n",
    "For the neural network, we have build each layer into a function.\n",
    "\n",
    "### Input\n",
    "The neural network needs to read the image data, one-hot encoded labels, and dropout keep probability.\n",
    "\n",
    "Note: `None` for shapes in TensorFlow allow for a dynamic size."
   ]
  },
  {
   "cell_type": "code",
   "execution_count": 24,
   "metadata": {},
   "outputs": [
    {
     "name": "stdout",
     "output_type": "stream",
     "text": [
      "Image Input Tests Passed.\n",
      "Label Input Tests Passed.\n",
      "Keep Prob Tests Passed.\n"
     ]
    }
   ],
   "source": [
    "import tensorflow as tf\n",
    "\n",
    "def neural_net_image_input(image_shape):\n",
    "    \"\"\"\n",
    "    Return a Tensor for a batch of image input\n",
    "    : image_shape: Shape of the images\n",
    "    : return: Tensor for image input.\n",
    "    \"\"\"\n",
    "    return tf.placeholder(tf.float32, shape = (None, *image_shape), name = 'x')\n",
    "\n",
    "def neural_net_label_input(n_classes):\n",
    "    \"\"\"\n",
    "    Return a Tensor for a batch of label input\n",
    "    : n_classes: Number of classes\n",
    "    : return: Tensor for label input.\n",
    "    \"\"\"\n",
    "    return tf.placeholder(tf.float32, shape=(None, n_classes), name='y')\n",
    "\n",
    "def neural_net_keep_prob_input():\n",
    "    \"\"\"\n",
    "    Return a Tensor for keep probability\n",
    "    : return: Tensor for keep probability.\n",
    "    \"\"\"\n",
    "    return tf.placeholder(tf.float32, name='keep_prob')\n",
    "\n",
    "tf.reset_default_graph()"
   ]
  },
  {
   "cell_type": "markdown",
   "metadata": {},
   "source": [
    "### Convolution and Max Pooling Layer\n",
    "Convolution layers have a lot of success with images. Below we have implemented the function `conv2d_maxpool` to apply convolution then max pooling."
   ]
  },
  {
   "cell_type": "code",
   "execution_count": 25,
   "metadata": {},
   "outputs": [
    {
     "name": "stdout",
     "output_type": "stream",
     "text": [
      "Tests Passed\n"
     ]
    }
   ],
   "source": [
    "def conv2d_maxpool(x_tensor, conv_num_outputs, conv_ksize, conv_strides, pool_ksize, pool_strides):\n",
    "    \"\"\"\n",
    "    Apply convolution then max pooling to x_tensor\n",
    "    :param x_tensor: TensorFlow Tensor\n",
    "    :param conv_num_outputs: Number of outputs for the convolutional layer\n",
    "    :param conv_ksize: kernal size 2-D Tuple for the convolutional layer\n",
    "    :param conv_strides: Stride 2-D Tuple for convolution\n",
    "    :param pool_ksize: kernal size 2-D Tuple for pool\n",
    "    :param pool_strides: Stride 2-D Tuple for pool\n",
    "    : return: A tensor that represents convolution and max pooling of x_tensor\n",
    "    \"\"\"\n",
    "    weight = tf.Variable(tf.truncated_normal([conv_ksize[0], conv_ksize[1], x_tensor.shape[3].value, conv_num_outputs], mean=0, stddev=0.1))\n",
    "    bias = tf.Variable(tf.zeros(conv_num_outputs))\n",
    "    \n",
    "    convolution_layer = tf.nn.conv2d( x_tensor, weight, strides = [1, conv_strides[0], conv_strides[1], 1], padding = 'SAME')\n",
    "    \n",
    "    convolution_layer = tf.nn.bias_add(convolution_layer, bias)\n",
    "    \n",
    "    convolution_layer = tf.nn.relu(convolution_layer)\n",
    "                          \n",
    "    final_layer = tf.nn.max_pool(convolution_layer, ksize = [1, pool_ksize[0], pool_ksize[1], 1], strides = [1, pool_strides[0], pool_strides[1], 1], padding='SAME')\n",
    "\n",
    "    return final_layer"
   ]
  },
  {
   "cell_type": "markdown",
   "metadata": {},
   "source": [
    "### Flatten Layer\n",
    "Implement the `flatten` function to change the dimension of `x_tensor` from a 4-D tensor to a 2-D tensor.  The output should be the shape (*Batch Size*, *Flattened Image Size*)."
   ]
  },
  {
   "cell_type": "code",
   "execution_count": 27,
   "metadata": {},
   "outputs": [
    {
     "name": "stdout",
     "output_type": "stream",
     "text": [
      "Tests Passed\n"
     ]
    }
   ],
   "source": [
    "def flatten(x_tensor):\n",
    "    \"\"\"\n",
    "    Flatten x_tensor to (Batch Size, Flattened Image Size)\n",
    "    : x_tensor: A tensor of size (Batch Size, ...), where ... are the image dimensions.\n",
    "    : return: A tensor of size (Batch Size, Flattened Image Size).\n",
    "    \"\"\"\n",
    "    return tf.contrib.layers.flatten(x_tensor)"
   ]
  },
  {
   "cell_type": "markdown",
   "metadata": {},
   "source": [
    "### Fully-Connected Layer\n",
    "Implement the `fully_conn` function to apply a fully connected layer to `x_tensor` with the shape (*Batch Size*, *num_outputs*)."
   ]
  },
  {
   "cell_type": "code",
   "execution_count": 29,
   "metadata": {},
   "outputs": [
    {
     "name": "stdout",
     "output_type": "stream",
     "text": [
      "Tests Passed\n"
     ]
    }
   ],
   "source": [
    "def fully_conn(x_tensor, num_outputs):\n",
    "    \"\"\"\n",
    "    Apply a fully connected layer to x_tensor using weight and bias\n",
    "    : x_tensor: A 2-D tensor where the first dimension is batch size.\n",
    "    : num_outputs: The number of output that the new tensor should be.\n",
    "    : return: A 2-D tensor where the second dimension is num_outputs.\n",
    "    \"\"\"\n",
    "    weight = tf.Variable(tf.truncated_normal([x_tensor.shape[1].value, num_outputs], mean = 0, stddev = 0.1))\n",
    "    bias = tf.Variable(tf.zeros(num_outputs))\n",
    "    \n",
    "    hidden_layer = tf.matmul(x_tensor, weight)\n",
    "\n",
    "    hidden_layer = tf.nn.bias_add(hidden_layer, bias)\n",
    "\n",
    "    hidden_layer = tf.nn.relu(hidden_layer)\n",
    "   \n",
    "    return hidden_layer"
   ]
  },
  {
   "cell_type": "markdown",
   "metadata": {},
   "source": [
    "### Output Layer\n",
    "Implement the `output` function to apply a fully connected layer to `x_tensor` with the shape (*Batch Size*, *num_outputs*).\n",
    "\n",
    "**Note:** Activation, softmax, or cross entropy is **not** applied to this."
   ]
  },
  {
   "cell_type": "code",
   "execution_count": 30,
   "metadata": {},
   "outputs": [
    {
     "name": "stdout",
     "output_type": "stream",
     "text": [
      "Tests Passed\n"
     ]
    }
   ],
   "source": [
    "def output(x_tensor, num_outputs):\n",
    "    \"\"\"\n",
    "    Apply a output layer to x_tensor using weight and bias\n",
    "    : x_tensor: A 2-D tensor where the first dimension is batch size.\n",
    "    : num_outputs: The number of output that the new tensor should be.\n",
    "    : return: A 2-D tensor where the second dimension is num_outputs.\n",
    "    \"\"\"\n",
    "    weight = tf.Variable(tf.truncated_normal([x_tensor.shape[1].value, num_outputs], mean = 0, stddev = 0.1))\n",
    "    bias = tf.Variable(tf.zeros(num_outputs))\n",
    "    \n",
    "    output_layer = tf.matmul(x_tensor, weight)\n",
    "\n",
    "    output_layer = tf.nn.bias_add(output_layer, bias)\n",
    "\n",
    "    output_layer = tf.nn.relu(output_layer)\n",
    "   \n",
    "    return output_layer"
   ]
  },
  {
   "cell_type": "markdown",
   "metadata": {},
   "source": [
    "### Create Convolutional Model\n",
    "Implementing a function `conv_net` to create a convolutional neural network model. The function takes in a batch of images, `x`, and outputs logits.\n",
    "\n",
    "#### We have applied :\n",
    "* 3 Convolution and Max Pool layers\n",
    "* a Flatten Layer\n",
    "* 3 Fully Connected Layers\n",
    "* an Output Layer\n",
    "* Applied TensorFlow's Dropout to one or more layers in the model using `keep_prob`. \n",
    "\n",
    "finally returning the output"
   ]
  },
  {
   "cell_type": "code",
   "execution_count": 36,
   "metadata": {},
   "outputs": [
    {
     "name": "stdout",
     "output_type": "stream",
     "text": [
      "Neural Network Built!\n"
     ]
    }
   ],
   "source": [
    "def conv_net(x, keep_prob):\n",
    "    \"\"\"\n",
    "    Create a convolutional neural network model\n",
    "    : x: Placeholder tensor that holds image data.\n",
    "    : keep_prob: Placeholder tensor that hold dropout keep probability.\n",
    "    : return: Tensor that represents logits\n",
    "    \"\"\"\n",
    "    # 3 Convolution and Max Pool layers\n",
    "    conv_layers = conv2d_maxpool(x, 16, (3, 3), (1, 1), (2, 2), (2, 2))\n",
    "    conv_layers = conv2d_maxpool(x, 32, (3, 3), (2, 2), (2, 2), (2, 2))\n",
    "    conv_layers = conv2d_maxpool(x, 64, (3, 3), (1, 1), (2, 2), (2, 2))\n",
    "\n",
    "\n",
    "    # Apply a Flatten Layer\n",
    "    conv_layers = flatten(conv_layers)\n",
    "    \n",
    "\n",
    "    # 3 Fully Connected Layers\n",
    "    conv_layers = fully_conn(conv_layers, 100)\n",
    "    conv_layers = tf.nn.dropout(conv_layers, keep_prob)\n",
    "    conv_layers = fully_conn(conv_layers, 50)\n",
    "    conv_layers = tf.nn.dropout(conv_layers, keep_prob)\n",
    "    \n",
    "    # Apply an Output Layer\n",
    "    answer = output(conv_layers, 10)\n",
    "\n",
    "    # return output\n",
    "    return answer\n",
    "\n",
    "##############################\n",
    "## Build the Neural Network ##\n",
    "##############################\n",
    "\n",
    "# Remove previous weights, bias, inputs, etc..\n",
    "tf.reset_default_graph()\n",
    "\n",
    "# Inputs\n",
    "x = neural_net_image_input((32, 32, 3))\n",
    "y = neural_net_label_input(10)\n",
    "keep_prob = neural_net_keep_prob_input()\n",
    "\n",
    "# Model\n",
    "logits = conv_net(x, keep_prob)\n",
    "\n",
    "# Name logits Tensor, so that is can be loaded from disk after training\n",
    "logits = tf.identity(logits, name='logits')\n",
    "\n",
    "# Loss and Optimizer\n",
    "cost = tf.reduce_mean(tf.nn.softmax_cross_entropy_with_logits(logits=logits, labels=y))\n",
    "optimizer = tf.train.AdamOptimizer().minimize(cost)\n",
    "\n",
    "# Accuracy\n",
    "correct_pred = tf.equal(tf.argmax(logits, 1), tf.argmax(y, 1))\n",
    "accuracy = tf.reduce_mean(tf.cast(correct_pred, tf.float32), name='accuracy')"
   ]
  },
  {
   "cell_type": "markdown",
   "metadata": {},
   "source": [
    "## Hyper parameter tuning using small dataset\n",
    "### Single Optimization\n",
    "Implemented the function `train_neural_network` to do a single optimization.\n",
    "\n",
    "This function will be called for each batch, so `tf.global_variables_initializer()` has already been called.\n",
    "\n",
    "Note:This function is only optimizing the neural network."
   ]
  },
  {
   "cell_type": "code",
   "execution_count": 37,
   "metadata": {},
   "outputs": [
    {
     "name": "stdout",
     "output_type": "stream",
     "text": [
      "Tests Passed\n"
     ]
    }
   ],
   "source": [
    "def train_neural_network(session, optimizer, keep_probability, feature_batch, label_batch):\n",
    "    \"\"\"\n",
    "    Optimizing the session on a batch of images and labels\n",
    "    : session: Current TensorFlow session\n",
    "    : optimizer: TensorFlow optimizer function\n",
    "    : keep_probability: keep probability\n",
    "    : feature_batch: Batch of Numpy image data\n",
    "    : label_batch: Batch of Numpy label data\n",
    "    \"\"\"\n",
    "    session.run(optimizer, feed_dict = { x: feature_batch, y: label_batch, keep_prob: keep_probability })"
   ]
  },
  {
   "cell_type": "markdown",
   "metadata": {},
   "source": [
    "### See Stats"
   ]
  },
  {
   "cell_type": "code",
   "execution_count": 38,
   "metadata": {
    "collapsed": true
   },
   "outputs": [],
   "source": [
    "def print_stats(session, feature_batch, label_batch, cost, accuracy):\n",
    "    \"\"\"\n",
    "    Print information about loss and validation accuracy\n",
    "    : session: Current TensorFlow session\n",
    "    : feature_batch: Batch of Numpy image data\n",
    "    : label_batch: Batch of Numpy label data\n",
    "    : cost: TensorFlow cost function\n",
    "    : accuracy: TensorFlow accuracy function\n",
    "    \"\"\"\n",
    "    loss = session.run(cost, feed_dict = {x: feature_batch, y: label_batch, keep_prob: 1} )\n",
    "    val_accu = session.run(accuracy, feed_dict = {x: valid_features, y: valid_labels, keep_prob: 1})\n",
    "    \n",
    "    print('loss: {:>10.4f} validation accuracy: {:.6f}'.format(loss, val_accu))"
   ]
  },
  {
   "cell_type": "markdown",
   "metadata": {},
   "source": [
    "Tune the following parameters:\n",
    "* Setting `epochs` to the number of iterations until the network stops learning or starts overfitting.\n",
    "* Setting `batch_size` to the highest number that the machine has memory for.\n",
    "* Setting `keep_probability` to the probability of keeping a node using dropout"
   ]
  },
  {
   "cell_type": "code",
   "execution_count": 44,
   "metadata": {
    "collapsed": true
   },
   "outputs": [],
   "source": [
    "epochs = 37\n",
    "batch_size = 256\n",
    "keep_probability = 0.7"
   ]
  },
  {
   "cell_type": "markdown",
   "metadata": {},
   "source": [
    "### Train on a Single CIFAR-10 Batch\n",
    "Instead of training the neural network on all the CIFAR-10 batches of data, let's use a single batch. This should save time while iterating on the complete model to get a better accuracy."
   ]
  },
  {
   "cell_type": "code",
   "execution_count": 40,
   "metadata": {},
   "outputs": [
    {
     "name": "stdout",
     "output_type": "stream",
     "text": [
      "Checking the Training on a Single Batch...\n",
      "Epoch  1, CIFAR-10 Batch 1:  loss:     2.1758 validation accuracy: 0.250800\n",
      "Epoch  2, CIFAR-10 Batch 1:  loss:     1.9337 validation accuracy: 0.346800\n",
      "Epoch  3, CIFAR-10 Batch 1:  loss:     1.8091 validation accuracy: 0.400200\n",
      "Epoch  4, CIFAR-10 Batch 1:  loss:     1.6210 validation accuracy: 0.435800\n",
      "Epoch  5, CIFAR-10 Batch 1:  loss:     1.4904 validation accuracy: 0.450800\n",
      "Epoch  6, CIFAR-10 Batch 1:  loss:     1.3298 validation accuracy: 0.459800\n",
      "Epoch  7, CIFAR-10 Batch 1:  loss:     1.2193 validation accuracy: 0.485800\n",
      "Epoch  8, CIFAR-10 Batch 1:  loss:     1.0756 validation accuracy: 0.486400\n",
      "Epoch  9, CIFAR-10 Batch 1:  loss:     1.0094 validation accuracy: 0.498200\n",
      "Epoch 10, CIFAR-10 Batch 1:  loss:     0.9311 validation accuracy: 0.492800\n",
      "Epoch 11, CIFAR-10 Batch 1:  loss:     0.8195 validation accuracy: 0.502800\n",
      "Epoch 12, CIFAR-10 Batch 1:  loss:     0.7360 validation accuracy: 0.507400\n",
      "Epoch 13, CIFAR-10 Batch 1:  loss:     0.6720 validation accuracy: 0.508800\n",
      "Epoch 14, CIFAR-10 Batch 1:  loss:     0.6401 validation accuracy: 0.510000\n",
      "Epoch 15, CIFAR-10 Batch 1:  loss:     0.5296 validation accuracy: 0.527200\n",
      "Epoch 16, CIFAR-10 Batch 1:  loss:     0.4640 validation accuracy: 0.527400\n",
      "Epoch 17, CIFAR-10 Batch 1:  loss:     0.4149 validation accuracy: 0.524000\n",
      "Epoch 18, CIFAR-10 Batch 1:  loss:     0.3710 validation accuracy: 0.527000\n",
      "Epoch 19, CIFAR-10 Batch 1:  loss:     0.3447 validation accuracy: 0.524400\n",
      "Epoch 20, CIFAR-10 Batch 1:  loss:     0.3489 validation accuracy: 0.525400\n",
      "Epoch 21, CIFAR-10 Batch 1:  loss:     0.3124 validation accuracy: 0.536800\n",
      "Epoch 22, CIFAR-10 Batch 1:  loss:     0.2722 validation accuracy: 0.542600\n",
      "Epoch 23, CIFAR-10 Batch 1:  loss:     0.2447 validation accuracy: 0.544400\n",
      "Epoch 24, CIFAR-10 Batch 1:  loss:     0.2673 validation accuracy: 0.547800\n",
      "Epoch 25, CIFAR-10 Batch 1:  loss:     0.2569 validation accuracy: 0.530600\n",
      "Epoch 26, CIFAR-10 Batch 1:  loss:     0.2328 validation accuracy: 0.534400\n",
      "Epoch 27, CIFAR-10 Batch 1:  loss:     0.1854 validation accuracy: 0.547200\n",
      "Epoch 28, CIFAR-10 Batch 1:  loss:     0.1805 validation accuracy: 0.526000\n",
      "Epoch 29, CIFAR-10 Batch 1:  loss:     0.1697 validation accuracy: 0.518400\n",
      "Epoch 30, CIFAR-10 Batch 1:  loss:     0.1331 validation accuracy: 0.533000\n",
      "Epoch 31, CIFAR-10 Batch 1:  loss:     0.1269 validation accuracy: 0.531600\n",
      "Epoch 32, CIFAR-10 Batch 1:  loss:     0.1201 validation accuracy: 0.540400\n",
      "Epoch 33, CIFAR-10 Batch 1:  loss:     0.1121 validation accuracy: 0.531600\n",
      "Epoch 34, CIFAR-10 Batch 1:  loss:     0.1313 validation accuracy: 0.538600\n",
      "Epoch 35, CIFAR-10 Batch 1:  loss:     0.1247 validation accuracy: 0.531200\n",
      "Epoch 36, CIFAR-10 Batch 1:  loss:     0.0977 validation accuracy: 0.546600\n",
      "Epoch 37, CIFAR-10 Batch 1:  loss:     0.0936 validation accuracy: 0.547600\n",
      "Epoch 38, CIFAR-10 Batch 1:  loss:     0.0971 validation accuracy: 0.545400\n"
     ]
    }
   ],
   "source": [
    "print('Checking the Training on a Single Batch...')\n",
    "with tf.Session() as sess:\n",
    "    # Initializing the variables\n",
    "    sess.run(tf.global_variables_initializer())\n",
    "    \n",
    "    # Training cycle\n",
    "    for epoch in range(epochs):\n",
    "        batch_i = 1\n",
    "        for batch_features, batch_labels in helper.load_preprocess_training_batch(batch_i, batch_size):\n",
    "            train_neural_network(sess, optimizer, keep_probability, batch_features, batch_labels)\n",
    "        print('Epoch {:>2}, CIFAR-10 Batch {}:  '.format(epoch + 1, batch_i), end='')\n",
    "        print_stats(sess, batch_features, batch_labels, cost, accuracy)"
   ]
  },
  {
   "cell_type": "markdown",
   "metadata": {},
   "source": [
    "### Fully Training the Model\n",
    "Now that we have got a good accuracy with a single CIFAR-10 batch, lets try it with all five batches."
   ]
  },
  {
   "cell_type": "code",
   "execution_count": 41,
   "metadata": {},
   "outputs": [
    {
     "name": "stdout",
     "output_type": "stream",
     "text": [
      "Training...\n",
      "Epoch  1, CIFAR-10 Batch 1:  loss:     2.1742 validation accuracy: 0.282200\n",
      "Epoch  1, CIFAR-10 Batch 2:  loss:     1.9105 validation accuracy: 0.337000\n",
      "Epoch  1, CIFAR-10 Batch 3:  loss:     1.6542 validation accuracy: 0.365800\n",
      "Epoch  1, CIFAR-10 Batch 4:  loss:     1.6884 validation accuracy: 0.391800\n",
      "Epoch  1, CIFAR-10 Batch 5:  loss:     1.6161 validation accuracy: 0.425200\n",
      "Epoch  2, CIFAR-10 Batch 1:  loss:     1.7458 validation accuracy: 0.442600\n",
      "Epoch  2, CIFAR-10 Batch 2:  loss:     1.4426 validation accuracy: 0.449000\n",
      "Epoch  2, CIFAR-10 Batch 3:  loss:     1.2608 validation accuracy: 0.467600\n",
      "Epoch  2, CIFAR-10 Batch 4:  loss:     1.3819 validation accuracy: 0.491800\n",
      "Epoch  2, CIFAR-10 Batch 5:  loss:     1.3130 validation accuracy: 0.499000\n",
      "Epoch  3, CIFAR-10 Batch 1:  loss:     1.4517 validation accuracy: 0.508600\n",
      "Epoch  3, CIFAR-10 Batch 2:  loss:     1.1943 validation accuracy: 0.494600\n",
      "Epoch  3, CIFAR-10 Batch 3:  loss:     1.0232 validation accuracy: 0.504400\n",
      "Epoch  3, CIFAR-10 Batch 4:  loss:     1.2097 validation accuracy: 0.521000\n",
      "Epoch  3, CIFAR-10 Batch 5:  loss:     1.1406 validation accuracy: 0.536400\n",
      "Epoch  4, CIFAR-10 Batch 1:  loss:     1.2543 validation accuracy: 0.543400\n",
      "Epoch  4, CIFAR-10 Batch 2:  loss:     1.0620 validation accuracy: 0.528000\n",
      "Epoch  4, CIFAR-10 Batch 3:  loss:     0.9222 validation accuracy: 0.553400\n",
      "Epoch  4, CIFAR-10 Batch 4:  loss:     1.0403 validation accuracy: 0.547000\n",
      "Epoch  4, CIFAR-10 Batch 5:  loss:     1.0260 validation accuracy: 0.554400\n",
      "Epoch  5, CIFAR-10 Batch 1:  loss:     1.0711 validation accuracy: 0.564800\n",
      "Epoch  5, CIFAR-10 Batch 2:  loss:     0.8964 validation accuracy: 0.556000\n",
      "Epoch  5, CIFAR-10 Batch 3:  loss:     0.7945 validation accuracy: 0.563000\n",
      "Epoch  5, CIFAR-10 Batch 4:  loss:     0.9086 validation accuracy: 0.571200\n",
      "Epoch  5, CIFAR-10 Batch 5:  loss:     0.9160 validation accuracy: 0.577800\n",
      "Epoch  6, CIFAR-10 Batch 1:  loss:     0.9706 validation accuracy: 0.551600\n",
      "Epoch  6, CIFAR-10 Batch 2:  loss:     0.7610 validation accuracy: 0.574000\n",
      "Epoch  6, CIFAR-10 Batch 3:  loss:     0.6792 validation accuracy: 0.581000\n",
      "Epoch  6, CIFAR-10 Batch 4:  loss:     0.8054 validation accuracy: 0.576800\n",
      "Epoch  6, CIFAR-10 Batch 5:  loss:     0.8364 validation accuracy: 0.587800\n",
      "Epoch  7, CIFAR-10 Batch 1:  loss:     0.8195 validation accuracy: 0.578200\n",
      "Epoch  7, CIFAR-10 Batch 2:  loss:     0.6436 validation accuracy: 0.587600\n",
      "Epoch  7, CIFAR-10 Batch 3:  loss:     0.6193 validation accuracy: 0.582800\n",
      "Epoch  7, CIFAR-10 Batch 4:  loss:     0.7734 validation accuracy: 0.582200\n",
      "Epoch  7, CIFAR-10 Batch 5:  loss:     0.7141 validation accuracy: 0.595400\n",
      "Epoch  8, CIFAR-10 Batch 1:  loss:     0.7689 validation accuracy: 0.581800\n",
      "Epoch  8, CIFAR-10 Batch 2:  loss:     0.5493 validation accuracy: 0.592200\n",
      "Epoch  8, CIFAR-10 Batch 3:  loss:     0.5438 validation accuracy: 0.595400\n",
      "Epoch  8, CIFAR-10 Batch 4:  loss:     0.6400 validation accuracy: 0.602000\n",
      "Epoch  8, CIFAR-10 Batch 5:  loss:     0.6534 validation accuracy: 0.601400\n",
      "Epoch  9, CIFAR-10 Batch 1:  loss:     0.6790 validation accuracy: 0.601200\n",
      "Epoch  9, CIFAR-10 Batch 2:  loss:     0.4740 validation accuracy: 0.598200\n",
      "Epoch  9, CIFAR-10 Batch 3:  loss:     0.4800 validation accuracy: 0.610800\n",
      "Epoch  9, CIFAR-10 Batch 4:  loss:     0.6139 validation accuracy: 0.595800\n",
      "Epoch  9, CIFAR-10 Batch 5:  loss:     0.5844 validation accuracy: 0.613600\n",
      "Epoch 10, CIFAR-10 Batch 1:  loss:     0.6180 validation accuracy: 0.608000\n",
      "Epoch 10, CIFAR-10 Batch 2:  loss:     0.4372 validation accuracy: 0.612200\n",
      "Epoch 10, CIFAR-10 Batch 3:  loss:     0.3899 validation accuracy: 0.611200\n",
      "Epoch 10, CIFAR-10 Batch 4:  loss:     0.5366 validation accuracy: 0.617000\n",
      "Epoch 10, CIFAR-10 Batch 5:  loss:     0.5004 validation accuracy: 0.623000\n",
      "Epoch 11, CIFAR-10 Batch 1:  loss:     0.5702 validation accuracy: 0.621600\n",
      "Epoch 11, CIFAR-10 Batch 2:  loss:     0.4097 validation accuracy: 0.620800\n",
      "Epoch 11, CIFAR-10 Batch 3:  loss:     0.3768 validation accuracy: 0.616400\n",
      "Epoch 11, CIFAR-10 Batch 4:  loss:     0.4857 validation accuracy: 0.619400\n",
      "Epoch 11, CIFAR-10 Batch 5:  loss:     0.4779 validation accuracy: 0.626800\n",
      "Epoch 12, CIFAR-10 Batch 1:  loss:     0.5222 validation accuracy: 0.623600\n",
      "Epoch 12, CIFAR-10 Batch 2:  loss:     0.3712 validation accuracy: 0.616200\n",
      "Epoch 12, CIFAR-10 Batch 3:  loss:     0.3313 validation accuracy: 0.632600\n",
      "Epoch 12, CIFAR-10 Batch 4:  loss:     0.4133 validation accuracy: 0.629800\n",
      "Epoch 12, CIFAR-10 Batch 5:  loss:     0.4169 validation accuracy: 0.629800\n",
      "Epoch 13, CIFAR-10 Batch 1:  loss:     0.4836 validation accuracy: 0.616600\n",
      "Epoch 13, CIFAR-10 Batch 2:  loss:     0.3377 validation accuracy: 0.632800\n",
      "Epoch 13, CIFAR-10 Batch 3:  loss:     0.2914 validation accuracy: 0.636200\n",
      "Epoch 13, CIFAR-10 Batch 4:  loss:     0.3840 validation accuracy: 0.626200\n",
      "Epoch 13, CIFAR-10 Batch 5:  loss:     0.3525 validation accuracy: 0.636400\n",
      "Epoch 14, CIFAR-10 Batch 1:  loss:     0.4390 validation accuracy: 0.629400\n",
      "Epoch 14, CIFAR-10 Batch 2:  loss:     0.3473 validation accuracy: 0.627600\n",
      "Epoch 14, CIFAR-10 Batch 3:  loss:     0.2689 validation accuracy: 0.640200\n",
      "Epoch 14, CIFAR-10 Batch 4:  loss:     0.3386 validation accuracy: 0.641400\n",
      "Epoch 14, CIFAR-10 Batch 5:  loss:     0.3214 validation accuracy: 0.635800\n",
      "Epoch 15, CIFAR-10 Batch 1:  loss:     0.3566 validation accuracy: 0.640200\n",
      "Epoch 15, CIFAR-10 Batch 2:  loss:     0.2564 validation accuracy: 0.627400\n",
      "Epoch 15, CIFAR-10 Batch 3:  loss:     0.2639 validation accuracy: 0.632600\n",
      "Epoch 15, CIFAR-10 Batch 4:  loss:     0.3252 validation accuracy: 0.632600\n",
      "Epoch 15, CIFAR-10 Batch 5:  loss:     0.3021 validation accuracy: 0.635400\n",
      "Epoch 16, CIFAR-10 Batch 1:  loss:     0.3506 validation accuracy: 0.647200\n",
      "Epoch 16, CIFAR-10 Batch 2:  loss:     0.2495 validation accuracy: 0.626400\n",
      "Epoch 16, CIFAR-10 Batch 3:  loss:     0.2296 validation accuracy: 0.644800\n",
      "Epoch 16, CIFAR-10 Batch 4:  loss:     0.2774 validation accuracy: 0.641000\n",
      "Epoch 16, CIFAR-10 Batch 5:  loss:     0.2822 validation accuracy: 0.639200\n",
      "Epoch 17, CIFAR-10 Batch 1:  loss:     0.3241 validation accuracy: 0.644200\n",
      "Epoch 17, CIFAR-10 Batch 2:  loss:     0.2275 validation accuracy: 0.624600\n",
      "Epoch 17, CIFAR-10 Batch 3:  loss:     0.2395 validation accuracy: 0.623600\n",
      "Epoch 17, CIFAR-10 Batch 4:  loss:     0.2703 validation accuracy: 0.631400\n",
      "Epoch 17, CIFAR-10 Batch 5:  loss:     0.2732 validation accuracy: 0.649000\n",
      "Epoch 18, CIFAR-10 Batch 1:  loss:     0.2999 validation accuracy: 0.635000\n",
      "Epoch 18, CIFAR-10 Batch 2:  loss:     0.2445 validation accuracy: 0.626000\n",
      "Epoch 18, CIFAR-10 Batch 3:  loss:     0.2224 validation accuracy: 0.623800\n",
      "Epoch 18, CIFAR-10 Batch 4:  loss:     0.2667 validation accuracy: 0.631000\n",
      "Epoch 18, CIFAR-10 Batch 5:  loss:     0.2682 validation accuracy: 0.633400\n",
      "Epoch 19, CIFAR-10 Batch 1:  loss:     0.2899 validation accuracy: 0.642800\n",
      "Epoch 19, CIFAR-10 Batch 2:  loss:     0.2372 validation accuracy: 0.626800\n",
      "Epoch 19, CIFAR-10 Batch 3:  loss:     0.2117 validation accuracy: 0.638800\n",
      "Epoch 19, CIFAR-10 Batch 4:  loss:     0.2203 validation accuracy: 0.652800\n",
      "Epoch 19, CIFAR-10 Batch 5:  loss:     0.2579 validation accuracy: 0.635600\n",
      "Epoch 20, CIFAR-10 Batch 1:  loss:     0.2757 validation accuracy: 0.646200\n",
      "Epoch 20, CIFAR-10 Batch 2:  loss:     0.2103 validation accuracy: 0.626800\n",
      "Epoch 20, CIFAR-10 Batch 3:  loss:     0.1844 validation accuracy: 0.641800\n",
      "Epoch 20, CIFAR-10 Batch 4:  loss:     0.2199 validation accuracy: 0.636800\n",
      "Epoch 20, CIFAR-10 Batch 5:  loss:     0.2097 validation accuracy: 0.655000\n",
      "Epoch 21, CIFAR-10 Batch 1:  loss:     0.2396 validation accuracy: 0.651200\n",
      "Epoch 21, CIFAR-10 Batch 2:  loss:     0.1802 validation accuracy: 0.638200\n",
      "Epoch 21, CIFAR-10 Batch 3:  loss:     0.1697 validation accuracy: 0.644800\n",
      "Epoch 21, CIFAR-10 Batch 4:  loss:     0.1968 validation accuracy: 0.643400\n",
      "Epoch 21, CIFAR-10 Batch 5:  loss:     0.1988 validation accuracy: 0.646800\n",
      "Epoch 22, CIFAR-10 Batch 1:  loss:     0.2408 validation accuracy: 0.651000\n",
      "Epoch 22, CIFAR-10 Batch 2:  loss:     0.1687 validation accuracy: 0.631000\n",
      "Epoch 22, CIFAR-10 Batch 3:  loss:     0.1492 validation accuracy: 0.636400\n"
     ]
    },
    {
     "name": "stdout",
     "output_type": "stream",
     "text": [
      "Epoch 22, CIFAR-10 Batch 4:  loss:     0.1818 validation accuracy: 0.643600\n",
      "Epoch 22, CIFAR-10 Batch 5:  loss:     0.1814 validation accuracy: 0.650800\n",
      "Epoch 23, CIFAR-10 Batch 1:  loss:     0.2106 validation accuracy: 0.649800\n",
      "Epoch 23, CIFAR-10 Batch 2:  loss:     0.1464 validation accuracy: 0.634800\n",
      "Epoch 23, CIFAR-10 Batch 3:  loss:     0.1395 validation accuracy: 0.646200\n",
      "Epoch 23, CIFAR-10 Batch 4:  loss:     0.1845 validation accuracy: 0.637600\n",
      "Epoch 23, CIFAR-10 Batch 5:  loss:     0.1489 validation accuracy: 0.640200\n",
      "Epoch 24, CIFAR-10 Batch 1:  loss:     0.2339 validation accuracy: 0.639800\n",
      "Epoch 24, CIFAR-10 Batch 2:  loss:     0.1395 validation accuracy: 0.646600\n",
      "Epoch 24, CIFAR-10 Batch 3:  loss:     0.1348 validation accuracy: 0.650800\n",
      "Epoch 24, CIFAR-10 Batch 4:  loss:     0.1714 validation accuracy: 0.631400\n",
      "Epoch 24, CIFAR-10 Batch 5:  loss:     0.1472 validation accuracy: 0.651800\n",
      "Epoch 25, CIFAR-10 Batch 1:  loss:     0.1905 validation accuracy: 0.652600\n",
      "Epoch 25, CIFAR-10 Batch 2:  loss:     0.1294 validation accuracy: 0.643000\n",
      "Epoch 25, CIFAR-10 Batch 3:  loss:     0.1487 validation accuracy: 0.645000\n",
      "Epoch 25, CIFAR-10 Batch 4:  loss:     0.1412 validation accuracy: 0.648200\n",
      "Epoch 25, CIFAR-10 Batch 5:  loss:     0.1212 validation accuracy: 0.653000\n",
      "Epoch 26, CIFAR-10 Batch 1:  loss:     0.1778 validation accuracy: 0.652800\n",
      "Epoch 26, CIFAR-10 Batch 2:  loss:     0.1714 validation accuracy: 0.628800\n",
      "Epoch 26, CIFAR-10 Batch 3:  loss:     0.1204 validation accuracy: 0.653600\n",
      "Epoch 26, CIFAR-10 Batch 4:  loss:     0.1399 validation accuracy: 0.645800\n",
      "Epoch 26, CIFAR-10 Batch 5:  loss:     0.1177 validation accuracy: 0.651200\n",
      "Epoch 27, CIFAR-10 Batch 1:  loss:     0.1754 validation accuracy: 0.648000\n",
      "Epoch 27, CIFAR-10 Batch 2:  loss:     0.1448 validation accuracy: 0.630200\n",
      "Epoch 27, CIFAR-10 Batch 3:  loss:     0.1134 validation accuracy: 0.648600\n",
      "Epoch 27, CIFAR-10 Batch 4:  loss:     0.1234 validation accuracy: 0.653600\n",
      "Epoch 27, CIFAR-10 Batch 5:  loss:     0.1158 validation accuracy: 0.651400\n",
      "Epoch 28, CIFAR-10 Batch 1:  loss:     0.1766 validation accuracy: 0.649800\n",
      "Epoch 28, CIFAR-10 Batch 2:  loss:     0.1200 validation accuracy: 0.636400\n",
      "Epoch 28, CIFAR-10 Batch 3:  loss:     0.1231 validation accuracy: 0.645000\n",
      "Epoch 28, CIFAR-10 Batch 4:  loss:     0.1287 validation accuracy: 0.636600\n",
      "Epoch 28, CIFAR-10 Batch 5:  loss:     0.1000 validation accuracy: 0.654800\n",
      "Epoch 29, CIFAR-10 Batch 1:  loss:     0.1597 validation accuracy: 0.647600\n",
      "Epoch 29, CIFAR-10 Batch 2:  loss:     0.1061 validation accuracy: 0.632600\n",
      "Epoch 29, CIFAR-10 Batch 3:  loss:     0.1152 validation accuracy: 0.648400\n",
      "Epoch 29, CIFAR-10 Batch 4:  loss:     0.1271 validation accuracy: 0.640400\n",
      "Epoch 29, CIFAR-10 Batch 5:  loss:     0.0923 validation accuracy: 0.650600\n",
      "Epoch 30, CIFAR-10 Batch 1:  loss:     0.1529 validation accuracy: 0.653000\n",
      "Epoch 30, CIFAR-10 Batch 2:  loss:     0.0948 validation accuracy: 0.631000\n",
      "Epoch 30, CIFAR-10 Batch 3:  loss:     0.0896 validation accuracy: 0.650400\n",
      "Epoch 30, CIFAR-10 Batch 4:  loss:     0.1071 validation accuracy: 0.641200\n",
      "Epoch 30, CIFAR-10 Batch 5:  loss:     0.0814 validation accuracy: 0.645800\n",
      "Epoch 31, CIFAR-10 Batch 1:  loss:     0.1544 validation accuracy: 0.645000\n",
      "Epoch 31, CIFAR-10 Batch 2:  loss:     0.0960 validation accuracy: 0.631400\n",
      "Epoch 31, CIFAR-10 Batch 3:  loss:     0.0920 validation accuracy: 0.648200\n",
      "Epoch 31, CIFAR-10 Batch 4:  loss:     0.1024 validation accuracy: 0.629200\n",
      "Epoch 31, CIFAR-10 Batch 5:  loss:     0.0766 validation accuracy: 0.649000\n",
      "Epoch 32, CIFAR-10 Batch 1:  loss:     0.1469 validation accuracy: 0.632200\n",
      "Epoch 32, CIFAR-10 Batch 2:  loss:     0.0772 validation accuracy: 0.628400\n",
      "Epoch 32, CIFAR-10 Batch 3:  loss:     0.0927 validation accuracy: 0.644800\n",
      "Epoch 32, CIFAR-10 Batch 4:  loss:     0.1053 validation accuracy: 0.626800\n",
      "Epoch 32, CIFAR-10 Batch 5:  loss:     0.0813 validation accuracy: 0.648400\n",
      "Epoch 33, CIFAR-10 Batch 1:  loss:     0.1339 validation accuracy: 0.651600\n",
      "Epoch 33, CIFAR-10 Batch 2:  loss:     0.0833 validation accuracy: 0.629200\n",
      "Epoch 33, CIFAR-10 Batch 3:  loss:     0.0944 validation accuracy: 0.646400\n",
      "Epoch 33, CIFAR-10 Batch 4:  loss:     0.0795 validation accuracy: 0.635600\n",
      "Epoch 33, CIFAR-10 Batch 5:  loss:     0.0813 validation accuracy: 0.644200\n",
      "Epoch 34, CIFAR-10 Batch 1:  loss:     0.1372 validation accuracy: 0.645600\n",
      "Epoch 34, CIFAR-10 Batch 2:  loss:     0.0760 validation accuracy: 0.621400\n",
      "Epoch 34, CIFAR-10 Batch 3:  loss:     0.0804 validation accuracy: 0.642000\n",
      "Epoch 34, CIFAR-10 Batch 4:  loss:     0.0892 validation accuracy: 0.628200\n",
      "Epoch 34, CIFAR-10 Batch 5:  loss:     0.0704 validation accuracy: 0.639200\n",
      "Epoch 35, CIFAR-10 Batch 1:  loss:     0.1435 validation accuracy: 0.637800\n",
      "Epoch 35, CIFAR-10 Batch 2:  loss:     0.0745 validation accuracy: 0.624400\n",
      "Epoch 35, CIFAR-10 Batch 3:  loss:     0.0708 validation accuracy: 0.639600\n",
      "Epoch 35, CIFAR-10 Batch 4:  loss:     0.0711 validation accuracy: 0.643800\n",
      "Epoch 35, CIFAR-10 Batch 5:  loss:     0.0803 validation accuracy: 0.638200\n",
      "Epoch 36, CIFAR-10 Batch 1:  loss:     0.1389 validation accuracy: 0.632400\n",
      "Epoch 36, CIFAR-10 Batch 2:  loss:     0.0522 validation accuracy: 0.632200\n",
      "Epoch 36, CIFAR-10 Batch 3:  loss:     0.0911 validation accuracy: 0.638000\n",
      "Epoch 36, CIFAR-10 Batch 4:  loss:     0.0777 validation accuracy: 0.638200\n",
      "Epoch 36, CIFAR-10 Batch 5:  loss:     0.0843 validation accuracy: 0.641800\n",
      "Epoch 37, CIFAR-10 Batch 1:  loss:     0.1370 validation accuracy: 0.623000\n",
      "Epoch 37, CIFAR-10 Batch 2:  loss:     0.0513 validation accuracy: 0.636800\n",
      "Epoch 37, CIFAR-10 Batch 3:  loss:     0.0606 validation accuracy: 0.641600\n",
      "Epoch 37, CIFAR-10 Batch 4:  loss:     0.0632 validation accuracy: 0.636000\n",
      "Epoch 37, CIFAR-10 Batch 5:  loss:     0.0657 validation accuracy: 0.646800\n",
      "Epoch 38, CIFAR-10 Batch 1:  loss:     0.1176 validation accuracy: 0.635600\n",
      "Epoch 38, CIFAR-10 Batch 2:  loss:     0.0599 validation accuracy: 0.645000\n",
      "Epoch 38, CIFAR-10 Batch 3:  loss:     0.0612 validation accuracy: 0.639800\n",
      "Epoch 38, CIFAR-10 Batch 4:  loss:     0.0679 validation accuracy: 0.641200\n",
      "Epoch 38, CIFAR-10 Batch 5:  loss:     0.0612 validation accuracy: 0.643000\n"
     ]
    }
   ],
   "source": [
    "save_model_path = './image_classification'\n",
    "\n",
    "print('Training...')\n",
    "with tf.Session() as sess:\n",
    "    # Initializing the variables\n",
    "    sess.run(tf.global_variables_initializer())\n",
    "    \n",
    "    # Training cycle\n",
    "    for epoch in range(epochs):\n",
    "        # Loop over all batches\n",
    "        n_batches = 5\n",
    "        for batch_i in range(1, n_batches + 1):\n",
    "            for batch_features, batch_labels in helper.load_preprocess_training_batch(batch_i, batch_size):\n",
    "                train_neural_network(sess, optimizer, keep_probability, batch_features, batch_labels)\n",
    "            print('Epoch {:>2}, CIFAR-10 Batch {}:  '.format(epoch + 1, batch_i), end='')\n",
    "            print_stats(sess, batch_features, batch_labels, cost, accuracy)\n",
    "            \n",
    "    # Save Model\n",
    "    saver = tf.train.Saver()\n",
    "    save_path = saver.save(sess, save_model_path)"
   ]
  },
  {
   "cell_type": "markdown",
   "metadata": {},
   "source": [
    "## Checkpoint 2\n",
    "The model has been saved to disk."
   ]
  },
  {
   "cell_type": "markdown",
   "metadata": {},
   "source": [
    "# Testing the Model\n",
    "Testing model against the test dataset."
   ]
  },
  {
   "cell_type": "code",
   "execution_count": 42,
   "metadata": {},
   "outputs": [
    {
     "name": "stdout",
     "output_type": "stream",
     "text": [
      "INFO:tensorflow:Restoring parameters from ./image_classification\n",
      "Testing Accuracy: 0.630859375\n",
      "\n"
     ]
    },
    {
     "data": {
      "image/png": "[encoded data removed]",
      "text/plain": [
       "<matplotlib.figure.Figure at 0x7f453fe3d3c8>"
      ]
     },
     "metadata": {
      "image/png": {
       "height": 319,
       "width": 355
      }
     },
     "output_type": "display_data"
    }
   ],
   "source": [
    "%matplotlib inline\n",
    "%config InlineBackend.figure_format = 'retina'\n",
    "\n",
    "import tensorflow as tf\n",
    "import pickle\n",
    "import helper\n",
    "import random\n",
    "\n",
    "# Set batch size if not already set\n",
    "try:\n",
    "    if batch_size:\n",
    "        pass\n",
    "except NameError:\n",
    "    batch_size = 64\n",
    "\n",
    "save_model_path = './image_classification'\n",
    "n_samples = 4\n",
    "top_n_predictions = 3\n",
    "\n",
    "def test_model():\n",
    "    test_features, test_labels = pickle.load(open('preprocess_test.p', mode='rb'))\n",
    "    loaded_graph = tf.Graph()\n",
    "\n",
    "    with tf.Session(graph=loaded_graph) as sess:\n",
    "        # Load model\n",
    "        loader = tf.train.import_meta_graph(save_model_path + '.meta')\n",
    "        loader.restore(sess, save_model_path)\n",
    "\n",
    "        # Get Tensors from loaded model\n",
    "        loaded_x = loaded_graph.get_tensor_by_name('x:0')\n",
    "        loaded_y = loaded_graph.get_tensor_by_name('y:0')\n",
    "        loaded_keep_prob = loaded_graph.get_tensor_by_name('keep_prob:0')\n",
    "        loaded_logits = loaded_graph.get_tensor_by_name('logits:0')\n",
    "        loaded_acc = loaded_graph.get_tensor_by_name('accuracy:0')\n",
    "        \n",
    "        # Get accuracy in batches for memory limitations\n",
    "        test_batch_acc_total = 0\n",
    "        test_batch_count = 0\n",
    "        \n",
    "        for test_feature_batch, test_label_batch in helper.batch_features_labels(test_features, test_labels, batch_size):\n",
    "            test_batch_acc_total += sess.run(\n",
    "                loaded_acc,\n",
    "                feed_dict={loaded_x: test_feature_batch, loaded_y: test_label_batch, loaded_keep_prob: 1.0})\n",
    "            test_batch_count += 1\n",
    "\n",
    "        print('Testing Accuracy: {}\\n'.format(test_batch_acc_total/test_batch_count))\n",
    "\n",
    "        # Print Random Samples\n",
    "        random_test_features, random_test_labels = tuple(zip(*random.sample(list(zip(test_features, test_labels)), n_samples)))\n",
    "        random_test_predictions = sess.run(\n",
    "            tf.nn.top_k(tf.nn.softmax(loaded_logits), top_n_predictions),\n",
    "            feed_dict={loaded_x: random_test_features, loaded_y: random_test_labels, loaded_keep_prob: 1.0})\n",
    "        helper.display_image_predictions(random_test_features, random_test_labels, random_test_predictions)\n",
    "\n",
    "\n",
    "test_model()"
   ]
  },
  {
   "cell_type": "markdown",
   "metadata": {},
   "source": [
    "#### We can increase this CNNs prediction utpo 80% and more by using more layers of convolution and fully connected layers, which will significantly increase the time it takes to train and so a GPU is a must. Therefore the model is kept quite simple and fast to be trained using a CPU. "
   ]
  }
 ],
 "metadata": {
  "kernelspec": {
   "display_name": "Python 3",
   "language": "python",
   "name": "python3"
  },
  "language_info": {
   "codemirror_mode": {
    "name": "ipython",
    "version": 3
   },
   "file_extension": ".py",
   "mimetype": "text/x-python",
   "name": "python",
   "nbconvert_exporter": "python",
   "pygments_lexer": "ipython3",
   "version": "3.6.3"
  }
 },
 "nbformat": 4,
 "nbformat_minor": 1
}
